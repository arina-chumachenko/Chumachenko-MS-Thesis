{
 "cells": [
  {
   "cell_type": "code",
   "execution_count": 18,
   "id": "c34f77e2",
   "metadata": {},
   "outputs": [
    {
     "name": "stdout",
     "output_type": "stream",
     "text": [
      "The autoreload extension is already loaded. To reload it, use:\n",
      "  %reload_ext autoreload\n"
     ]
    }
   ],
   "source": [
    "%load_ext autoreload\n",
    "%autoreload 2\n",
    "%config Completer.use_jedi = True\n",
    "\n",
    "import warnings\n",
    "warnings.filterwarnings(\"ignore\")"
   ]
  },
  {
   "cell_type": "code",
   "execution_count": 19,
   "id": "47f58d98-f368-4297-98e1-8915aa4d90ff",
   "metadata": {},
   "outputs": [
    {
     "data": {
      "text/plain": [
       "0.6666666666666666"
      ]
     },
     "execution_count": 19,
     "metadata": {},
     "output_type": "execute_result"
    }
   ],
   "source": [
    "a = (0.755+0.534+0.711) / 3\n",
    "a"
   ]
  },
  {
   "cell_type": "code",
   "execution_count": 4,
   "id": "87539047-a15d-4d24-8454-e780e7cad758",
   "metadata": {},
   "outputs": [],
   "source": [
    "# exp                       checkpoint\n",
    "# 0001-res-dog6_CR          400\n",
    "# 0002-res-cat2_CR          200\n",
    "# 0003-res-duck_toy_CR      200\n",
    "# 0004-res-vase_CR          800\n",
    "# 0005-res-backpack_CR      200\n",
    "# 0006-res-berry_bowl_CR    200\n",
    "# 0007-res-backpack_dog_CR  600\n",
    "# [a for a in os.listdir(base_path)] "
   ]
  },
  {
   "cell_type": "code",
   "execution_count": 20,
   "id": "ddbea76c",
   "metadata": {},
   "outputs": [],
   "source": [
    "import regex \n",
    "import os\n",
    "import random\n",
    "import numpy as np\n",
    "from matplotlib.ticker import FormatStrFormatter\n",
    "\n",
    "\n",
    "import torch\n",
    "import torch.backends.cuda\n",
    "\n",
    "import matplotlib_inline\n",
    "import matplotlib.pyplot as plt\n",
    "import matplotlib.colors as mcolors\n",
    "\n",
    "%matplotlib inline\n",
    "matplotlib_inline.backend_inline.set_matplotlib_formats('pdf', 'svg')\n",
    "\n",
    "# torch.backends.cuda.enable_math_sdp(True)\n",
    "# torch.backends.cuda.enable_flash_sdp(False)\n",
    "# torch.backends.cuda.enable_mem_efficient_sdp(False)"
   ]
  },
  {
   "cell_type": "code",
   "execution_count": 5,
   "id": "6a589a03-c251-4202-8aab-9a0626320085",
   "metadata": {
    "scrolled": true
   },
   "outputs": [
    {
     "name": "stdout",
     "output_type": "stream",
     "text": [
      "Requirement already satisfied: torch in /home/jovyan/.mlspace/envs/chumachenko/lib/python3.8/site-packages (1.7.1+cu101)\n",
      "Requirement already satisfied: typing-extensions in /home/jovyan/.mlspace/envs/chumachenko/lib/python3.8/site-packages (from torch) (4.11.0)\n",
      "Requirement already satisfied: numpy in /home/jovyan/.mlspace/envs/chumachenko/lib/python3.8/site-packages (from torch) (1.24.4)\n",
      "Requirement already satisfied: scikit-learn in /home/jovyan/.mlspace/envs/chumachenko/lib/python3.8/site-packages (1.3.2)\n",
      "Requirement already satisfied: numpy<2.0,>=1.17.3 in /home/jovyan/.mlspace/envs/chumachenko/lib/python3.8/site-packages (from scikit-learn) (1.24.4)\n",
      "Requirement already satisfied: scipy>=1.5.0 in /home/jovyan/.mlspace/envs/chumachenko/lib/python3.8/site-packages (from scikit-learn) (1.9.1)\n",
      "Requirement already satisfied: threadpoolctl>=2.0.0 in /home/jovyan/.mlspace/envs/chumachenko/lib/python3.8/site-packages (from scikit-learn) (3.5.0)\n",
      "Requirement already satisfied: joblib>=1.1.1 in /home/jovyan/.mlspace/envs/chumachenko/lib/python3.8/site-packages (from scikit-learn) (1.4.2)\n",
      "Requirement already satisfied: ipyfilechooser in /home/jovyan/.mlspace/envs/chumachenko/lib/python3.8/site-packages (0.6.0)\n",
      "Requirement already satisfied: ipywidgets in /home/jovyan/.mlspace/envs/chumachenko/lib/python3.8/site-packages (from ipyfilechooser) (8.1.5)\n",
      "Requirement already satisfied: widgetsnbextension~=4.0.12 in /home/jovyan/.mlspace/envs/chumachenko/lib/python3.8/site-packages (from ipywidgets->ipyfilechooser) (4.0.13)\n",
      "Requirement already satisfied: comm>=0.1.3 in /home/jovyan/.mlspace/envs/chumachenko/lib/python3.8/site-packages (from ipywidgets->ipyfilechooser) (0.2.2)\n",
      "Requirement already satisfied: traitlets>=4.3.1 in /home/jovyan/.mlspace/envs/chumachenko/lib/python3.8/site-packages (from ipywidgets->ipyfilechooser) (5.14.3)\n",
      "Requirement already satisfied: ipython>=6.1.0 in /home/jovyan/.mlspace/envs/chumachenko/lib/python3.8/site-packages (from ipywidgets->ipyfilechooser) (8.12.3)\n",
      "Requirement already satisfied: jupyterlab-widgets~=3.0.12 in /home/jovyan/.mlspace/envs/chumachenko/lib/python3.8/site-packages (from ipywidgets->ipyfilechooser) (3.0.13)\n",
      "Requirement already satisfied: prompt-toolkit!=3.0.37,<3.1.0,>=3.0.30 in /home/jovyan/.mlspace/envs/chumachenko/lib/python3.8/site-packages (from ipython>=6.1.0->ipywidgets->ipyfilechooser) (3.0.48)\n",
      "Requirement already satisfied: jedi>=0.16 in /home/jovyan/.mlspace/envs/chumachenko/lib/python3.8/site-packages (from ipython>=6.1.0->ipywidgets->ipyfilechooser) (0.19.1)\n",
      "Requirement already satisfied: pexpect>4.3 in /home/jovyan/.mlspace/envs/chumachenko/lib/python3.8/site-packages (from ipython>=6.1.0->ipywidgets->ipyfilechooser) (4.9.0)\n",
      "Requirement already satisfied: matplotlib-inline in /home/jovyan/.mlspace/envs/chumachenko/lib/python3.8/site-packages (from ipython>=6.1.0->ipywidgets->ipyfilechooser) (0.1.7)\n",
      "Requirement already satisfied: pygments>=2.4.0 in /home/jovyan/.mlspace/envs/chumachenko/lib/python3.8/site-packages (from ipython>=6.1.0->ipywidgets->ipyfilechooser) (2.18.0)\n",
      "Requirement already satisfied: typing-extensions in /home/jovyan/.mlspace/envs/chumachenko/lib/python3.8/site-packages (from ipython>=6.1.0->ipywidgets->ipyfilechooser) (4.11.0)\n",
      "Requirement already satisfied: backcall in /home/jovyan/.mlspace/envs/chumachenko/lib/python3.8/site-packages (from ipython>=6.1.0->ipywidgets->ipyfilechooser) (0.2.0)\n",
      "Requirement already satisfied: stack-data in /home/jovyan/.mlspace/envs/chumachenko/lib/python3.8/site-packages (from ipython>=6.1.0->ipywidgets->ipyfilechooser) (0.6.3)\n",
      "Requirement already satisfied: pickleshare in /home/jovyan/.mlspace/envs/chumachenko/lib/python3.8/site-packages (from ipython>=6.1.0->ipywidgets->ipyfilechooser) (0.7.5)\n",
      "Requirement already satisfied: decorator in /home/jovyan/.mlspace/envs/chumachenko/lib/python3.8/site-packages (from ipython>=6.1.0->ipywidgets->ipyfilechooser) (5.1.1)\n",
      "Requirement already satisfied: parso<0.9.0,>=0.8.3 in /home/jovyan/.mlspace/envs/chumachenko/lib/python3.8/site-packages (from jedi>=0.16->ipython>=6.1.0->ipywidgets->ipyfilechooser) (0.8.4)\n",
      "Requirement already satisfied: ptyprocess>=0.5 in /home/jovyan/.mlspace/envs/chumachenko/lib/python3.8/site-packages (from pexpect>4.3->ipython>=6.1.0->ipywidgets->ipyfilechooser) (0.7.0)\n",
      "Requirement already satisfied: wcwidth in /home/jovyan/.mlspace/envs/chumachenko/lib/python3.8/site-packages (from prompt-toolkit!=3.0.37,<3.1.0,>=3.0.30->ipython>=6.1.0->ipywidgets->ipyfilechooser) (0.2.13)\n",
      "Requirement already satisfied: asttokens>=2.1.0 in /home/jovyan/.mlspace/envs/chumachenko/lib/python3.8/site-packages (from stack-data->ipython>=6.1.0->ipywidgets->ipyfilechooser) (2.4.1)\n",
      "Requirement already satisfied: pure-eval in /home/jovyan/.mlspace/envs/chumachenko/lib/python3.8/site-packages (from stack-data->ipython>=6.1.0->ipywidgets->ipyfilechooser) (0.2.3)\n",
      "Requirement already satisfied: executing>=1.2.0 in /home/jovyan/.mlspace/envs/chumachenko/lib/python3.8/site-packages (from stack-data->ipython>=6.1.0->ipywidgets->ipyfilechooser) (2.1.0)\n",
      "Requirement already satisfied: six>=1.12.0 in /home/jovyan/.mlspace/envs/chumachenko/lib/python3.8/site-packages (from asttokens>=2.1.0->stack-data->ipython>=6.1.0->ipywidgets->ipyfilechooser) (1.16.0)\n",
      "Requirement already satisfied: natsort in /home/jovyan/.mlspace/envs/chumachenko/lib/python3.8/site-packages (8.4.0)\n",
      "Requirement already satisfied: seaborn in /home/jovyan/.mlspace/envs/chumachenko/lib/python3.8/site-packages (0.13.2)\n",
      "Requirement already satisfied: numpy!=1.24.0,>=1.20 in /home/jovyan/.mlspace/envs/chumachenko/lib/python3.8/site-packages (from seaborn) (1.24.4)\n",
      "Requirement already satisfied: matplotlib!=3.6.1,>=3.4 in /home/jovyan/.mlspace/envs/chumachenko/lib/python3.8/site-packages (from seaborn) (3.7.5)\n",
      "Requirement already satisfied: pandas>=1.2 in /home/jovyan/.mlspace/envs/chumachenko/lib/python3.8/site-packages (from seaborn) (2.0.3)\n",
      "Requirement already satisfied: kiwisolver>=1.0.1 in /home/jovyan/.mlspace/envs/chumachenko/lib/python3.8/site-packages (from matplotlib!=3.6.1,>=3.4->seaborn) (1.4.7)\n",
      "Requirement already satisfied: cycler>=0.10 in /home/jovyan/.mlspace/envs/chumachenko/lib/python3.8/site-packages (from matplotlib!=3.6.1,>=3.4->seaborn) (0.12.1)\n",
      "Requirement already satisfied: fonttools>=4.22.0 in /home/jovyan/.mlspace/envs/chumachenko/lib/python3.8/site-packages (from matplotlib!=3.6.1,>=3.4->seaborn) (4.54.1)\n",
      "Requirement already satisfied: python-dateutil>=2.7 in /home/jovyan/.mlspace/envs/chumachenko/lib/python3.8/site-packages (from matplotlib!=3.6.1,>=3.4->seaborn) (2.9.0.post0)\n",
      "Requirement already satisfied: importlib-resources>=3.2.0 in /home/jovyan/.mlspace/envs/chumachenko/lib/python3.8/site-packages (from matplotlib!=3.6.1,>=3.4->seaborn) (6.4.5)\n",
      "Requirement already satisfied: pillow>=6.2.0 in /home/jovyan/.mlspace/envs/chumachenko/lib/python3.8/site-packages (from matplotlib!=3.6.1,>=3.4->seaborn) (10.4.0)\n",
      "Requirement already satisfied: contourpy>=1.0.1 in /home/jovyan/.mlspace/envs/chumachenko/lib/python3.8/site-packages (from matplotlib!=3.6.1,>=3.4->seaborn) (1.1.1)\n",
      "Requirement already satisfied: pyparsing>=2.3.1 in /home/jovyan/.mlspace/envs/chumachenko/lib/python3.8/site-packages (from matplotlib!=3.6.1,>=3.4->seaborn) (3.1.4)\n",
      "Requirement already satisfied: packaging>=20.0 in /home/jovyan/.mlspace/envs/chumachenko/lib/python3.8/site-packages (from matplotlib!=3.6.1,>=3.4->seaborn) (24.1)\n",
      "Requirement already satisfied: zipp>=3.1.0 in /home/jovyan/.mlspace/envs/chumachenko/lib/python3.8/site-packages (from importlib-resources>=3.2.0->matplotlib!=3.6.1,>=3.4->seaborn) (3.20.2)\n",
      "Requirement already satisfied: tzdata>=2022.1 in /home/jovyan/.mlspace/envs/chumachenko/lib/python3.8/site-packages (from pandas>=1.2->seaborn) (2024.2)\n",
      "Requirement already satisfied: pytz>=2020.1 in /home/jovyan/.mlspace/envs/chumachenko/lib/python3.8/site-packages (from pandas>=1.2->seaborn) (2024.2)\n",
      "Requirement already satisfied: six>=1.5 in /home/jovyan/.mlspace/envs/chumachenko/lib/python3.8/site-packages (from python-dateutil>=2.7->matplotlib!=3.6.1,>=3.4->seaborn) (1.16.0)\n"
     ]
    }
   ],
   "source": [
    "!pip install torch\n",
    "!pip install scikit-learn\n",
    "!pip install ipyfilechooser\n",
    "!pip install natsort\n",
    "!pip install seaborn"
   ]
  },
  {
   "cell_type": "code",
   "execution_count": 21,
   "id": "2cb2e81c-9686-4d15-ba57-885adbfc1c90",
   "metadata": {},
   "outputs": [],
   "source": [
    "import sklearn"
   ]
  },
  {
   "cell_type": "code",
   "execution_count": 22,
   "id": "76d41c0b-cda4-4468-ae0f-8c949d489505",
   "metadata": {},
   "outputs": [],
   "source": [
    "# {('0042-res-dog6_CR', ('500', '50', '7.0')): {'TS': 0.244346, 'BIS': 0.922852, 'IS': 0.893906}}\n"
   ]
  },
  {
   "cell_type": "code",
   "execution_count": 23,
   "id": "c566f636",
   "metadata": {
    "scrolled": true
   },
   "outputs": [],
   "source": [
    "from nb_utils.clip_eval import aggregate_similarities\n",
    "\n",
    "from nb_utils.cache import DistributedCache, Cache\n",
    "\n",
    "from nb_utils.experiments_viewer import ExpsViewer\n",
    "from nb_utils.clip_eval import ExpEvaluator\n",
    "from nb_utils.images_viewer import MultifolderViewer\n",
    "from nb_utils.configs import live_object_data"
   ]
  },
  {
   "cell_type": "code",
   "execution_count": 24,
   "id": "5553390d",
   "metadata": {},
   "outputs": [
    {
     "data": {
      "text/plain": [
       "device(type='cuda', index=0)"
      ]
     },
     "execution_count": 24,
     "metadata": {},
     "output_type": "execute_result"
    }
   ],
   "source": [
    "device = torch.device('cuda', 0) if torch.cuda.is_available() else torch.device('cpu')\n",
    "device"
   ]
  },
  {
   "cell_type": "code",
   "execution_count": 25,
   "id": "4e2ec25c-ce9b-4bae-b26c-5693fd7d8e7a",
   "metadata": {},
   "outputs": [
    {
     "data": {
      "text/plain": [
       "'1.7.1+cu101'"
      ]
     },
     "execution_count": 25,
     "metadata": {},
     "output_type": "execute_result"
    }
   ],
   "source": [
    "torch.__version__"
   ]
  },
  {
   "cell_type": "code",
   "execution_count": 26,
   "id": "69c4e4ef-6ee9-4094-abc0-ff3e81c4d8fe",
   "metadata": {},
   "outputs": [
    {
     "name": "stdout",
     "output_type": "stream",
     "text": [
      "The autoreload extension is already loaded. To reload it, use:\n",
      "  %reload_ext autoreload\n"
     ]
    },
    {
     "ename": "AttributeError",
     "evalue": "module 'torch.backends.cuda' has no attribute 'enable_math_sdp'",
     "output_type": "error",
     "traceback": [
      "\u001b[0;31m---------------------------------------------------------------------------\u001b[0m",
      "\u001b[0;31mAttributeError\u001b[0m                            Traceback (most recent call last)",
      "Cell \u001b[0;32mIn[26], line 31\u001b[0m\n\u001b[1;32m     27\u001b[0m \u001b[38;5;28;01mimport\u001b[39;00m \u001b[38;5;21;01mmatplotlib\u001b[39;00m\u001b[38;5;21;01m.\u001b[39;00m\u001b[38;5;21;01mcolors\u001b[39;00m \u001b[38;5;28;01mas\u001b[39;00m \u001b[38;5;21;01mmcolors\u001b[39;00m\n\u001b[1;32m     29\u001b[0m matplotlib_inline\u001b[38;5;241m.\u001b[39mbackend_inline\u001b[38;5;241m.\u001b[39mset_matplotlib_formats(\u001b[38;5;124m'\u001b[39m\u001b[38;5;124mpdf\u001b[39m\u001b[38;5;124m'\u001b[39m, \u001b[38;5;124m'\u001b[39m\u001b[38;5;124msvg\u001b[39m\u001b[38;5;124m'\u001b[39m)\n\u001b[0;32m---> 31\u001b[0m \u001b[43mtorch\u001b[49m\u001b[38;5;241;43m.\u001b[39;49m\u001b[43mbackends\u001b[49m\u001b[38;5;241;43m.\u001b[39;49m\u001b[43mcuda\u001b[49m\u001b[38;5;241;43m.\u001b[39;49m\u001b[43menable_math_sdp\u001b[49m(\u001b[38;5;28;01mTrue\u001b[39;00m)\n\u001b[1;32m     32\u001b[0m torch\u001b[38;5;241m.\u001b[39mbackends\u001b[38;5;241m.\u001b[39mcuda\u001b[38;5;241m.\u001b[39menable_flash_sdp(\u001b[38;5;28;01mFalse\u001b[39;00m)\n\u001b[1;32m     33\u001b[0m torch\u001b[38;5;241m.\u001b[39mbackends\u001b[38;5;241m.\u001b[39mcuda\u001b[38;5;241m.\u001b[39menable_mem_efficient_sdp(\u001b[38;5;28;01mFalse\u001b[39;00m)\n",
      "\u001b[0;31mAttributeError\u001b[0m: module 'torch.backends.cuda' has no attribute 'enable_math_sdp'"
     ]
    }
   ],
   "source": [
    "import sys\n",
    "from IPython import get_ipython\n",
    "\n",
    "ipython = get_ipython()\n",
    "\n",
    "if ipython is not None:\n",
    "    ipython.magic(\"load_ext autoreload\")\n",
    "    ipython.magic(\"autoreload 2\")\n",
    "    ipython.magic(\"config Completer.use_jedi = True\")\n",
    "    ipython.magic(\"matplotlib inline\")\n",
    "\n",
    "import warnings\n",
    "warnings.filterwarnings(\"ignore\")\n",
    "\n",
    "import regex\n",
    "import os\n",
    "import random\n",
    "import numpy as np\n",
    "from matplotlib.ticker import FormatStrFormatter\n",
    "\n",
    "\n",
    "import torch\n",
    "import torch.backends.cuda\n",
    "\n",
    "import matplotlib_inline\n",
    "import matplotlib.pyplot as plt\n",
    "import matplotlib.colors as mcolors\n",
    "\n",
    "matplotlib_inline.backend_inline.set_matplotlib_formats('pdf', 'svg')\n",
    "\n",
    "torch.backends.cuda.enable_math_sdp(True)\n",
    "torch.backends.cuda.enable_flash_sdp(False)\n",
    "torch.backends.cuda.enable_mem_efficient_sdp(False)\n",
    "\n",
    "from nb_utils.clip_eval import aggregate_similarities\n",
    "\n",
    "from nb_utils.cache import DistributedCache, Cache\n",
    "\n",
    "from nb_utils.experiments_viewer import ExpsViewer\n",
    "from nb_utils.clip_eval import ExpEvaluator\n",
    "from nb_utils.images_viewer import MultifolderViewer\n",
    "from nb_utils.configs import live_object_data"
   ]
  },
  {
   "cell_type": "code",
   "execution_count": 8,
   "id": "1dd970e9",
   "metadata": {},
   "outputs": [
    {
     "name": "stderr",
     "output_type": "stream",
     "text": [
      "Downloading: \"https://github.com/facebookresearch/dinov2/archive/master.zip\" to /home/jovyan/.cache/torch/hub/master.zip\n"
     ]
    },
    {
     "ename": "AttributeError",
     "evalue": "module 'torch' has no attribute 'inference_mode'",
     "output_type": "error",
     "traceback": [
      "\u001b[0;31m---------------------------------------------------------------------------\u001b[0m",
      "\u001b[0;31mAttributeError\u001b[0m                            Traceback (most recent call last)",
      "Cell \u001b[0;32mIn[8], line 1\u001b[0m\n\u001b[0;32m----> 1\u001b[0m evaluator \u001b[38;5;241m=\u001b[39m \u001b[43mExpEvaluator\u001b[49m\u001b[43m(\u001b[49m\u001b[43mdevice\u001b[49m\u001b[43m)\u001b[49m\n",
      "File \u001b[0;32m~/shares/SR006.nfs2/chumachenko/diffusers/examples/core/scripts/eval/eval/nb_utils/clip_eval.py:121\u001b[0m, in \u001b[0;36mExpEvaluator.__init__\u001b[0;34m(self, device)\u001b[0m\n\u001b[1;32m    119\u001b[0m \u001b[38;5;28;01mdef\u001b[39;00m \u001b[38;5;21m__init__\u001b[39m(\u001b[38;5;28mself\u001b[39m, device):\n\u001b[1;32m    120\u001b[0m     \u001b[38;5;28mself\u001b[39m\u001b[38;5;241m.\u001b[39mdevice \u001b[38;5;241m=\u001b[39m device\n\u001b[0;32m--> 121\u001b[0m     \u001b[38;5;28mself\u001b[39m\u001b[38;5;241m.\u001b[39mevaluator \u001b[38;5;241m=\u001b[39m \u001b[43mDINOEvaluator\u001b[49m\u001b[43m(\u001b[49m\u001b[43mdevice\u001b[49m\u001b[38;5;241;43m=\u001b[39;49m\u001b[43mdevice\u001b[49m\u001b[43m)\u001b[49m\n",
      "File \u001b[0;32m~/shares/SR006.nfs2/chumachenko/diffusers/examples/core/scripts/eval/eval/nb_utils/clip_eval.py:94\u001b[0m, in \u001b[0;36mDINOEvaluator.__init__\u001b[0;34m(self, device, clip_model, dino_model)\u001b[0m\n\u001b[1;32m     91\u001b[0m \u001b[38;5;28;01mdef\u001b[39;00m \u001b[38;5;21m__init__\u001b[39m(\u001b[38;5;28mself\u001b[39m, device, clip_model\u001b[38;5;241m=\u001b[39m\u001b[38;5;124m'\u001b[39m\u001b[38;5;124mViT-B/32\u001b[39m\u001b[38;5;124m'\u001b[39m, dino_model\u001b[38;5;241m=\u001b[39m\u001b[38;5;124m'\u001b[39m\u001b[38;5;124mdinov2_vits14\u001b[39m\u001b[38;5;124m'\u001b[39m) \u001b[38;5;241m-\u001b[39m\u001b[38;5;241m>\u001b[39m \u001b[38;5;28;01mNone\u001b[39;00m:\n\u001b[1;32m     92\u001b[0m     \u001b[38;5;28msuper\u001b[39m()\u001b[38;5;241m.\u001b[39m\u001b[38;5;21m__init__\u001b[39m(device, clip_model\u001b[38;5;241m=\u001b[39mclip_model)\n\u001b[0;32m---> 94\u001b[0m     \u001b[38;5;28mself\u001b[39m\u001b[38;5;241m.\u001b[39mdino_model \u001b[38;5;241m=\u001b[39m \u001b[43mtorch\u001b[49m\u001b[38;5;241;43m.\u001b[39;49m\u001b[43mhub\u001b[49m\u001b[38;5;241;43m.\u001b[39;49m\u001b[43mload\u001b[49m\u001b[43m(\u001b[49m\u001b[38;5;124;43m'\u001b[39;49m\u001b[38;5;124;43mfacebookresearch/dinov2\u001b[39;49m\u001b[38;5;124;43m'\u001b[39;49m\u001b[43m,\u001b[49m\u001b[43m \u001b[49m\u001b[43mdino_model\u001b[49m\u001b[43m)\u001b[49m\u001b[38;5;241m.\u001b[39mto(\u001b[38;5;28mself\u001b[39m\u001b[38;5;241m.\u001b[39mdevice)\n\u001b[1;32m     96\u001b[0m     \u001b[38;5;28mself\u001b[39m\u001b[38;5;241m.\u001b[39mdino_preprocess \u001b[38;5;241m=\u001b[39m transforms\u001b[38;5;241m.\u001b[39mCompose([\n\u001b[1;32m     97\u001b[0m         transforms\u001b[38;5;241m.\u001b[39mResize(\u001b[38;5;241m256\u001b[39m, interpolation\u001b[38;5;241m=\u001b[39mtransforms\u001b[38;5;241m.\u001b[39mInterpolationMode\u001b[38;5;241m.\u001b[39mBICUBIC, antialias\u001b[38;5;241m=\u001b[39m\u001b[38;5;28;01mTrue\u001b[39;00m),\n\u001b[1;32m     98\u001b[0m         transforms\u001b[38;5;241m.\u001b[39mCenterCrop(\u001b[38;5;241m224\u001b[39m),\n\u001b[1;32m     99\u001b[0m         transforms\u001b[38;5;241m.\u001b[39mToTensor(),\n\u001b[1;32m    100\u001b[0m         transforms\u001b[38;5;241m.\u001b[39mNormalize(mean\u001b[38;5;241m=\u001b[39m(\u001b[38;5;241m0.485\u001b[39m, \u001b[38;5;241m0.456\u001b[39m, \u001b[38;5;241m0.406\u001b[39m), std\u001b[38;5;241m=\u001b[39m(\u001b[38;5;241m0.229\u001b[39m, \u001b[38;5;241m0.224\u001b[39m, \u001b[38;5;241m0.225\u001b[39m))\n\u001b[1;32m    101\u001b[0m     ])\n",
      "File \u001b[0;32m~/.mlspace/envs/chumachenko/lib/python3.8/site-packages/torch/hub.py:370\u001b[0m, in \u001b[0;36mload\u001b[0;34m(repo_or_dir, model, *args, **kwargs)\u001b[0m\n\u001b[1;32m    367\u001b[0m \u001b[38;5;28;01mif\u001b[39;00m source \u001b[38;5;241m==\u001b[39m \u001b[38;5;124m'\u001b[39m\u001b[38;5;124mgithub\u001b[39m\u001b[38;5;124m'\u001b[39m:\n\u001b[1;32m    368\u001b[0m     repo_or_dir \u001b[38;5;241m=\u001b[39m _get_cache_or_reload(repo_or_dir, force_reload, verbose)\n\u001b[0;32m--> 370\u001b[0m model \u001b[38;5;241m=\u001b[39m \u001b[43m_load_local\u001b[49m\u001b[43m(\u001b[49m\u001b[43mrepo_or_dir\u001b[49m\u001b[43m,\u001b[49m\u001b[43m \u001b[49m\u001b[43mmodel\u001b[49m\u001b[43m,\u001b[49m\u001b[43m \u001b[49m\u001b[38;5;241;43m*\u001b[39;49m\u001b[43margs\u001b[49m\u001b[43m,\u001b[49m\u001b[43m \u001b[49m\u001b[38;5;241;43m*\u001b[39;49m\u001b[38;5;241;43m*\u001b[39;49m\u001b[43mkwargs\u001b[49m\u001b[43m)\u001b[49m\n\u001b[1;32m    371\u001b[0m \u001b[38;5;28;01mreturn\u001b[39;00m model\n",
      "File \u001b[0;32m~/.mlspace/envs/chumachenko/lib/python3.8/site-packages/torch/hub.py:396\u001b[0m, in \u001b[0;36m_load_local\u001b[0;34m(hubconf_dir, model, *args, **kwargs)\u001b[0m\n\u001b[1;32m    393\u001b[0m sys\u001b[38;5;241m.\u001b[39mpath\u001b[38;5;241m.\u001b[39minsert(\u001b[38;5;241m0\u001b[39m, hubconf_dir)\n\u001b[1;32m    395\u001b[0m hubconf_path \u001b[38;5;241m=\u001b[39m os\u001b[38;5;241m.\u001b[39mpath\u001b[38;5;241m.\u001b[39mjoin(hubconf_dir, MODULE_HUBCONF)\n\u001b[0;32m--> 396\u001b[0m hub_module \u001b[38;5;241m=\u001b[39m \u001b[43mimport_module\u001b[49m\u001b[43m(\u001b[49m\u001b[43mMODULE_HUBCONF\u001b[49m\u001b[43m,\u001b[49m\u001b[43m \u001b[49m\u001b[43mhubconf_path\u001b[49m\u001b[43m)\u001b[49m\n\u001b[1;32m    398\u001b[0m entry \u001b[38;5;241m=\u001b[39m _load_entry_from_hubconf(hub_module, model)\n\u001b[1;32m    399\u001b[0m model \u001b[38;5;241m=\u001b[39m entry(\u001b[38;5;241m*\u001b[39margs, \u001b[38;5;241m*\u001b[39m\u001b[38;5;241m*\u001b[39mkwargs)\n",
      "File \u001b[0;32m~/.mlspace/envs/chumachenko/lib/python3.8/site-packages/torch/hub.py:71\u001b[0m, in \u001b[0;36mimport_module\u001b[0;34m(name, path)\u001b[0m\n\u001b[1;32m     69\u001b[0m module \u001b[38;5;241m=\u001b[39m importlib\u001b[38;5;241m.\u001b[39mutil\u001b[38;5;241m.\u001b[39mmodule_from_spec(spec)\n\u001b[1;32m     70\u001b[0m \u001b[38;5;28;01massert\u001b[39;00m \u001b[38;5;28misinstance\u001b[39m(spec\u001b[38;5;241m.\u001b[39mloader, Loader)\n\u001b[0;32m---> 71\u001b[0m \u001b[43mspec\u001b[49m\u001b[38;5;241;43m.\u001b[39;49m\u001b[43mloader\u001b[49m\u001b[38;5;241;43m.\u001b[39;49m\u001b[43mexec_module\u001b[49m\u001b[43m(\u001b[49m\u001b[43mmodule\u001b[49m\u001b[43m)\u001b[49m\n\u001b[1;32m     72\u001b[0m \u001b[38;5;28;01mreturn\u001b[39;00m module\n",
      "File \u001b[0;32m<frozen importlib._bootstrap_external>:783\u001b[0m, in \u001b[0;36mexec_module\u001b[0;34m(self, module)\u001b[0m\n",
      "File \u001b[0;32m<frozen importlib._bootstrap>:219\u001b[0m, in \u001b[0;36m_call_with_frames_removed\u001b[0;34m(f, *args, **kwds)\u001b[0m\n",
      "File \u001b[0;32m~/.cache/torch/hub/facebookresearch_dinov2_master/hubconf.py:7\u001b[0m\n\u001b[1;32m      1\u001b[0m \u001b[38;5;66;03m# Copyright (c) Meta Platforms, Inc. and affiliates.\u001b[39;00m\n\u001b[1;32m      2\u001b[0m \u001b[38;5;66;03m#\u001b[39;00m\n\u001b[1;32m      3\u001b[0m \u001b[38;5;66;03m# This source code is licensed under the Apache License, Version 2.0\u001b[39;00m\n\u001b[1;32m      4\u001b[0m \u001b[38;5;66;03m# found in the LICENSE file in the root directory of this source tree.\u001b[39;00m\n\u001b[0;32m----> 7\u001b[0m \u001b[38;5;28;01mfrom\u001b[39;00m \u001b[38;5;21;01mdinov2\u001b[39;00m\u001b[38;5;21;01m.\u001b[39;00m\u001b[38;5;21;01mhub\u001b[39;00m\u001b[38;5;21;01m.\u001b[39;00m\u001b[38;5;21;01mbackbones\u001b[39;00m \u001b[38;5;28;01mimport\u001b[39;00m dinov2_vitb14, dinov2_vitg14, dinov2_vitl14, dinov2_vits14\n\u001b[1;32m      8\u001b[0m \u001b[38;5;28;01mfrom\u001b[39;00m \u001b[38;5;21;01mdinov2\u001b[39;00m\u001b[38;5;21;01m.\u001b[39;00m\u001b[38;5;21;01mhub\u001b[39;00m\u001b[38;5;21;01m.\u001b[39;00m\u001b[38;5;21;01mbackbones\u001b[39;00m \u001b[38;5;28;01mimport\u001b[39;00m dinov2_vitb14_reg, dinov2_vitg14_reg, dinov2_vitl14_reg, dinov2_vits14_reg\n\u001b[1;32m      9\u001b[0m \u001b[38;5;28;01mfrom\u001b[39;00m \u001b[38;5;21;01mdinov2\u001b[39;00m\u001b[38;5;21;01m.\u001b[39;00m\u001b[38;5;21;01mhub\u001b[39;00m\u001b[38;5;21;01m.\u001b[39;00m\u001b[38;5;21;01mclassifiers\u001b[39;00m \u001b[38;5;28;01mimport\u001b[39;00m dinov2_vitb14_lc, dinov2_vitg14_lc, dinov2_vitl14_lc, dinov2_vits14_lc\n",
      "File \u001b[0;32m~/.cache/torch/hub/facebookresearch_dinov2_master/dinov2/hub/backbones.py:11\u001b[0m\n\u001b[1;32m      7\u001b[0m \u001b[38;5;28;01mfrom\u001b[39;00m \u001b[38;5;21;01mtyping\u001b[39;00m \u001b[38;5;28;01mimport\u001b[39;00m Union\n\u001b[1;32m      9\u001b[0m \u001b[38;5;28;01mimport\u001b[39;00m \u001b[38;5;21;01mtorch\u001b[39;00m\n\u001b[0;32m---> 11\u001b[0m \u001b[38;5;28;01mfrom\u001b[39;00m \u001b[38;5;21;01m.\u001b[39;00m\u001b[38;5;21;01mutils\u001b[39;00m \u001b[38;5;28;01mimport\u001b[39;00m _DINOV2_BASE_URL, _make_dinov2_model_name\n\u001b[1;32m     14\u001b[0m \u001b[38;5;28;01mclass\u001b[39;00m \u001b[38;5;21;01mWeights\u001b[39;00m(Enum):\n\u001b[1;32m     15\u001b[0m     LVD142M \u001b[38;5;241m=\u001b[39m \u001b[38;5;124m\"\u001b[39m\u001b[38;5;124mLVD142M\u001b[39m\u001b[38;5;124m\"\u001b[39m\n",
      "File \u001b[0;32m~/.cache/torch/hub/facebookresearch_dinov2_master/dinov2/hub/utils.py:23\u001b[0m\n\u001b[1;32m     19\u001b[0m     registers_suffix \u001b[38;5;241m=\u001b[39m \u001b[38;5;124mf\u001b[39m\u001b[38;5;124m\"\u001b[39m\u001b[38;5;124m_reg\u001b[39m\u001b[38;5;132;01m{\u001b[39;00mnum_register_tokens\u001b[38;5;132;01m}\u001b[39;00m\u001b[38;5;124m\"\u001b[39m \u001b[38;5;28;01mif\u001b[39;00m num_register_tokens \u001b[38;5;28;01melse\u001b[39;00m \u001b[38;5;124m\"\u001b[39m\u001b[38;5;124m\"\u001b[39m\n\u001b[1;32m     20\u001b[0m     \u001b[38;5;28;01mreturn\u001b[39;00m \u001b[38;5;124mf\u001b[39m\u001b[38;5;124m\"\u001b[39m\u001b[38;5;124mdinov2_\u001b[39m\u001b[38;5;132;01m{\u001b[39;00mcompact_arch_name\u001b[38;5;132;01m}\u001b[39;00m\u001b[38;5;132;01m{\u001b[39;00mpatch_size\u001b[38;5;132;01m}\u001b[39;00m\u001b[38;5;132;01m{\u001b[39;00mregisters_suffix\u001b[38;5;132;01m}\u001b[39;00m\u001b[38;5;124m\"\u001b[39m\n\u001b[0;32m---> 23\u001b[0m \u001b[38;5;28;01mclass\u001b[39;00m \u001b[38;5;21;01mCenterPadding\u001b[39;00m(nn\u001b[38;5;241m.\u001b[39mModule):\n\u001b[1;32m     24\u001b[0m     \u001b[38;5;28;01mdef\u001b[39;00m \u001b[38;5;21m__init__\u001b[39m(\u001b[38;5;28mself\u001b[39m, multiple):\n\u001b[1;32m     25\u001b[0m         \u001b[38;5;28msuper\u001b[39m()\u001b[38;5;241m.\u001b[39m\u001b[38;5;21m__init__\u001b[39m()\n",
      "File \u001b[0;32m~/.cache/torch/hub/facebookresearch_dinov2_master/dinov2/hub/utils.py:35\u001b[0m, in \u001b[0;36mCenterPadding\u001b[0;34m()\u001b[0m\n\u001b[1;32m     32\u001b[0m     pad_size_right \u001b[38;5;241m=\u001b[39m pad_size \u001b[38;5;241m-\u001b[39m pad_size_left\n\u001b[1;32m     33\u001b[0m     \u001b[38;5;28;01mreturn\u001b[39;00m pad_size_left, pad_size_right\n\u001b[0;32m---> 35\u001b[0m \u001b[38;5;129m@torch\u001b[39m\u001b[38;5;241;43m.\u001b[39;49m\u001b[43minference_mode\u001b[49m()\n\u001b[1;32m     36\u001b[0m \u001b[38;5;28;01mdef\u001b[39;00m \u001b[38;5;21mforward\u001b[39m(\u001b[38;5;28mself\u001b[39m, x):\n\u001b[1;32m     37\u001b[0m     pads \u001b[38;5;241m=\u001b[39m \u001b[38;5;28mlist\u001b[39m(itertools\u001b[38;5;241m.\u001b[39mchain\u001b[38;5;241m.\u001b[39mfrom_iterable(\u001b[38;5;28mself\u001b[39m\u001b[38;5;241m.\u001b[39m_get_pad(m) \u001b[38;5;28;01mfor\u001b[39;00m m \u001b[38;5;129;01min\u001b[39;00m x\u001b[38;5;241m.\u001b[39mshape[:\u001b[38;5;241m1\u001b[39m:\u001b[38;5;241m-\u001b[39m\u001b[38;5;241m1\u001b[39m]))\n\u001b[1;32m     38\u001b[0m     output \u001b[38;5;241m=\u001b[39m F\u001b[38;5;241m.\u001b[39mpad(x, pads)\n",
      "\u001b[0;31mAttributeError\u001b[0m: module 'torch' has no attribute 'inference_mode'"
     ]
    }
   ],
   "source": [
    "evaluator = ExpEvaluator(device)"
   ]
  },
  {
   "cell_type": "code",
   "execution_count": 6,
   "id": "1a4082b6",
   "metadata": {},
   "outputs": [
    {
     "name": "stderr",
     "output_type": "stream",
     "text": [
      "  0%|                                                                      | 0/3 [00:00<?, ?it/s]"
     ]
    },
    {
     "data": {
      "application/vnd.jupyter.widget-view+json": {
       "model_id": "2c0279a814fd4d48a095e42839fb35a7",
       "version_major": 2,
       "version_minor": 0
      },
      "text/plain": [
       "  0%|          | 0/26 [00:00<?, ?it/s]"
      ]
     },
     "metadata": {},
     "output_type": "display_data"
    },
    {
     "name": "stderr",
     "output_type": "stream",
     "text": [
      " 33%|████████████████████▋                                         | 1/3 [00:15<00:31, 15.83s/it]"
     ]
    },
    {
     "data": {
      "application/vnd.jupyter.widget-view+json": {
       "model_id": "9af1fd5f4cba47259f857aa0c846774a",
       "version_major": 2,
       "version_minor": 0
      },
      "text/plain": [
       "  0%|          | 0/26 [00:00<?, ?it/s]"
      ]
     },
     "metadata": {},
     "output_type": "display_data"
    },
    {
     "name": "stderr",
     "output_type": "stream",
     "text": [
      " 67%|█████████████████████████████████████████▎                    | 2/3 [00:22<00:10, 10.71s/it]"
     ]
    },
    {
     "data": {
      "application/vnd.jupyter.widget-view+json": {
       "model_id": "3b7ddf1554d14725bf655d8ccdbb3d50",
       "version_major": 2,
       "version_minor": 0
      },
      "text/plain": [
       "  0%|          | 0/26 [00:00<?, ?it/s]"
      ]
     },
     "metadata": {},
     "output_type": "display_data"
    },
    {
     "name": "stderr",
     "output_type": "stream",
     "text": [
      "100%|██████████████████████████████████████████████████████████████| 3/3 [00:30<00:00, 10.19s/it]"
     ]
    },
    {
     "name": "stdout",
     "output_type": "stream",
     "text": [
      "ready\n",
      "ready\n",
      "ready\n"
     ]
    },
    {
     "name": "stderr",
     "output_type": "stream",
     "text": [
      "\n"
     ]
    }
   ],
   "source": [
    "base_path = \"/home/jovyan/shares/SR006.nfs2/chumachenko/diffusers/examples/core/res_CR/\"\n",
    "# exps = [\"0-res-dog6_DB\", \"0-res-backpack_dog_DB\", \"0-res-berry_bowl_DB\"]\n",
    "exps = [a for a in os.listdir(base_path)]\n",
    "exps_viewer = ExpsViewer(\n",
    "    base_path=base_path,\n",
    "    exp_filter_fn=lambda x: x in list(exps),\n",
    "    ncolumns=4, lazy_load=True, evaluator=evaluator\n",
    ")\n",
    "\n",
    "stats = exps_viewer.evaluate(\n",
    "    exps_names=exps, \n",
    "    checkpoint_idx='500', \n",
    "    inference_specs=('50', '7.0')\n",
    ")\n",
    "for key, value in stats.items():\n",
    "    exp_cache = Cache(os.path.join(value['config']['output_dir'], 'eval.cache'))\n",
    "    exp_cache.update({key: value})\n",
    "    print('ready')"
   ]
  },
  {
   "cell_type": "code",
   "execution_count": 7,
   "id": "262bf92b",
   "metadata": {},
   "outputs": [],
   "source": [
    "ti_evaluate_cache = DistributedCache('/home/mdnikolaev/aschumachenko/diffusers/examples/dreambooth/res_DB/*/eval.cache')\n",
    "# ti_evaluate_cache.keys()\n",
    "# ti_evaluate_cache[key]\n",
    "d = {k: {**v, **aggregate_similarities(v)} for k, v in ti_evaluate_cache.get().items()}\n",
    "# d.keys()\n",
    "# d[key]"
   ]
  },
  {
   "cell_type": "code",
   "execution_count": 8,
   "id": "4def4480",
   "metadata": {},
   "outputs": [],
   "source": [
    "def make_dict(path):\n",
    "    ti_evaluate_cache = DistributedCache(path)\n",
    "    d = {k: {**v, **aggregate_similarities(v)} for k, v in ti_evaluate_cache.get().items()}\n",
    "    medium_base_res = {}\n",
    "    for key in d.keys():\n",
    "        if live_object_data[d[key]['config']['class_name']] == 'live':\n",
    "            kt = 'live_text_similarity'\n",
    "            ki = 'live_image_similarity'\n",
    "        else:\n",
    "            kt = 'object_text_similarity'\n",
    "            ki = 'object_image_similarity'\n",
    "            \n",
    "        kb = 'base_image_similarity'\n",
    "        if not d[key][kt] or not d[key][ki]:\n",
    "            if live_object_data[d[key]['config']['class_name']] == 'live':\n",
    "                kt = 'live_with_class_text_similarity'\n",
    "                ki = 'live_with_class_image_similarity'\n",
    "            else:\n",
    "                kt = 'object_with_class_text_similarity'\n",
    "                ki = 'object_with_class_image_similarity'\n",
    "            kb = 'base_with_class_image_similarity'\n",
    "        medium_base_res[key] = {\n",
    "            'TS': np.round(d[key][kt], 6),\n",
    "            'BIS': np.round(d[key][kb], 6),\n",
    "            'IS': np.round(d[key][ki], 6),\n",
    "        }\n",
    "    return medium_base_res"
   ]
  },
  {
   "cell_type": "code",
   "execution_count": 10,
   "id": "0025162d",
   "metadata": {},
   "outputs": [],
   "source": [
    "res = make_dict('/home/mdnikolaev/aschumachenko/diffusers/examples/dreambooth/res_DB/*/eval.cache')"
   ]
  },
  {
   "cell_type": "code",
   "execution_count": 11,
   "id": "b7c73fff",
   "metadata": {
    "ExecuteTime": {
     "end_time": "2024-06-26T09:51:15.295805Z",
     "start_time": "2024-06-26T09:51:14.865097Z"
    }
   },
   "outputs": [
    {
     "data": {
      "application/vnd.jupyter.widget-view+json": {
       "model_id": "0a5a49c39e6c4b09bc3d56eb541d58fe",
       "version_major": 2,
       "version_minor": 0
      },
      "text/plain": [
       "VBox(children=(HBox(children=(Button(style=ButtonStyle(button_color='#1f77b4')), Button(description='+CN', sty…"
      ]
     },
     "execution_count": 11,
     "metadata": {},
     "output_type": "execute_result"
    }
   ],
   "source": [
    "# запустив ячейку можно посмотреть сохраненные картинки, если они были правильно сохранены\n",
    "\n",
    "ti_exps_viewer = ExpsViewer(\n",
    "    # Base path to experiments\n",
    "    '/home/mdnikolaev/aschumachenko/diffusers/examples/dreambooth/res_DB',\n",
    "    # Filter experiments\n",
    "    # exp_filter_fn=lambda x: x in [x for x in os.listdir('results') if \"CD\" not in x], \n",
    "    # Filter prompts\n",
    "    # filter_fn='a photo of a sks',\n",
    "    # Defines number of columns in experiment selector\n",
    "    ncolumns=4, \n",
    "    # Whether to load all images only on demand\n",
    "    lazy_load=True, \n",
    "    # ExpEvaluator instance to perform evaluation. See scripts/*/inference.sh\n",
    "    evaluator=None,\n",
    ")\n",
    "ti_exps_viewer.view()"
   ]
  },
  {
   "cell_type": "code",
   "execution_count": null,
   "id": "11c4bfaf-9b46-4247-a1b3-6c381a1b1fc6",
   "metadata": {},
   "outputs": [],
   "source": []
  },
  {
   "cell_type": "code",
   "execution_count": 10,
   "id": "3d4998d7-c282-4a83-b6c9-3cf9cdff3938",
   "metadata": {},
   "outputs": [
    {
     "data": {
      "text/plain": [
       "['aa', 'ab']"
      ]
     },
     "execution_count": 10,
     "metadata": {},
     "output_type": "execute_result"
    }
   ],
   "source": [
    "s1 = 'a'\n",
    "s_list = ['a', 'b']\n",
    "s_list = [(s1 + s) for s in s_list]\n",
    "s_list\n",
    "# for s in s_list:\n",
    "#     s = s1 + s \n",
    "#     print(s)"
   ]
  },
  {
   "cell_type": "code",
   "execution_count": 8,
   "id": "ef8b71fa-dcd3-431b-8d74-99716c9a5654",
   "metadata": {},
   "outputs": [
    {
     "data": {
      "text/plain": [
       "['a', 'b']"
      ]
     },
     "execution_count": 8,
     "metadata": {},
     "output_type": "execute_result"
    }
   ],
   "source": [
    "s_list"
   ]
  },
  {
   "cell_type": "code",
   "execution_count": null,
   "id": "a11be6cf-3030-4728-a8bf-4e053e658642",
   "metadata": {},
   "outputs": [],
   "source": []
  }
 ],
 "metadata": {
  "kernelspec": {
   "display_name": "Python [conda env:.mlspace-chumachenko]",
   "language": "python",
   "name": "conda-env-.mlspace-chumachenko-py"
  },
  "language_info": {
   "codemirror_mode": {
    "name": "ipython",
    "version": 3
   },
   "file_extension": ".py",
   "mimetype": "text/x-python",
   "name": "python",
   "nbconvert_exporter": "python",
   "pygments_lexer": "ipython3",
   "version": "3.8.5"
  },
  "latex_envs": {
   "LaTeX_envs_menu_present": true,
   "autoclose": false,
   "autocomplete": true,
   "bibliofile": "biblio.bib",
   "cite_by": "apalike",
   "current_citInitial": 1,
   "eqLabelWithNumbers": true,
   "eqNumInitial": 1,
   "hotkeys": {
    "equation": "Ctrl-E",
    "itemize": "Ctrl-I"
   },
   "labels_anchors": false,
   "latex_user_defs": false,
   "report_style_numbering": false,
   "user_envs_cfg": false
  },
  "toc": {
   "base_numbering": 1,
   "nav_menu": {},
   "number_sections": false,
   "sideBar": true,
   "skip_h1_title": false,
   "title_cell": "Table of Contents",
   "title_sidebar": "Contents",
   "toc_cell": false,
   "toc_position": {},
   "toc_section_display": true,
   "toc_window_display": false
  },
  "widgets": {
   "application/vnd.jupyter.widget-state+json": {
    "state": {},
    "version_major": 2,
    "version_minor": 0
   }
  }
 },
 "nbformat": 4,
 "nbformat_minor": 5
}
