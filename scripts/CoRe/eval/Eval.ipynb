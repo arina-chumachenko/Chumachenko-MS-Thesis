{
 "cells": [
  {
   "cell_type": "code",
   "execution_count": 18,
   "id": "c34f77e2",
   "metadata": {},
   "outputs": [
    {
     "name": "stdout",
     "output_type": "stream",
     "text": [
      "The autoreload extension is already loaded. To reload it, use:\n",
      "  %reload_ext autoreload\n"
     ]
    }
   ],
   "source": [
    "%load_ext autoreload\n",
    "%autoreload 2\n",
    "%config Completer.use_jedi = True\n",
    "\n",
    "import warnings\n",
    "warnings.filterwarnings(\"ignore\")"
   ]
  },
  {
   "cell_type": "code",
   "execution_count": 20,
   "id": "ddbea76c",
   "metadata": {},
   "outputs": [],
   "source": [
    "import regex \n",
    "import os\n",
    "import random\n",
    "import numpy as np\n",
    "from matplotlib.ticker import FormatStrFormatter\n",
    "\n",
    "\n",
    "import torch\n",
    "import torch.backends.cuda\n",
    "\n",
    "import matplotlib_inline\n",
    "import matplotlib.pyplot as plt\n",
    "import matplotlib.colors as mcolors\n",
    "\n",
    "%matplotlib inline\n",
    "matplotlib_inline.backend_inline.set_matplotlib_formats('pdf', 'svg')\n",
    "\n",
    "# torch.backends.cuda.enable_math_sdp(True)\n",
    "# torch.backends.cuda.enable_flash_sdp(False)\n",
    "# torch.backends.cuda.enable_mem_efficient_sdp(False)"
   ]
  },
  {
   "cell_type": "code",
   "execution_count": null,
   "id": "6a589a03-c251-4202-8aab-9a0626320085",
   "metadata": {
    "scrolled": true
   },
   "outputs": [],
   "source": [
    "!pip install torch\n",
    "!pip install scikit-learn\n",
    "!pip install ipyfilechooser\n",
    "!pip install natsort\n",
    "!pip install seaborn"
   ]
  },
  {
   "cell_type": "code",
   "execution_count": 23,
   "id": "c566f636",
   "metadata": {
    "scrolled": true
   },
   "outputs": [],
   "source": [
    "from nb_utils.clip_eval import aggregate_similarities\n",
    "\n",
    "from nb_utils.cache import DistributedCache, Cache\n",
    "\n",
    "from nb_utils.experiments_viewer import ExpsViewer\n",
    "from nb_utils.clip_eval import ExpEvaluator\n",
    "from nb_utils.images_viewer import MultifolderViewer\n",
    "from nb_utils.configs import live_object_data"
   ]
  },
  {
   "cell_type": "code",
   "execution_count": null,
   "id": "5553390d",
   "metadata": {},
   "outputs": [],
   "source": [
    "device = torch.device('cuda', 0) if torch.cuda.is_available() else torch.device('cpu')\n",
    "device"
   ]
  },
  {
   "cell_type": "code",
   "execution_count": null,
   "id": "4e2ec25c-ce9b-4bae-b26c-5693fd7d8e7a",
   "metadata": {},
   "outputs": [],
   "source": [
    "torch.__version__"
   ]
  },
  {
   "cell_type": "code",
   "execution_count": null,
   "id": "69c4e4ef-6ee9-4094-abc0-ff3e81c4d8fe",
   "metadata": {},
   "outputs": [],
   "source": [
    "import sys\n",
    "from IPython import get_ipython\n",
    "\n",
    "ipython = get_ipython()\n",
    "\n",
    "if ipython is not None:\n",
    "    ipython.magic(\"load_ext autoreload\")\n",
    "    ipython.magic(\"autoreload 2\")\n",
    "    ipython.magic(\"config Completer.use_jedi = True\")\n",
    "    ipython.magic(\"matplotlib inline\")\n",
    "\n",
    "import warnings\n",
    "warnings.filterwarnings(\"ignore\")\n",
    "\n",
    "import regex\n",
    "import os\n",
    "import random\n",
    "import numpy as np\n",
    "from matplotlib.ticker import FormatStrFormatter\n",
    "\n",
    "\n",
    "import torch\n",
    "import torch.backends.cuda\n",
    "\n",
    "import matplotlib_inline\n",
    "import matplotlib.pyplot as plt\n",
    "import matplotlib.colors as mcolors\n",
    "\n",
    "matplotlib_inline.backend_inline.set_matplotlib_formats('pdf', 'svg')\n",
    "\n",
    "torch.backends.cuda.enable_math_sdp(True)\n",
    "torch.backends.cuda.enable_flash_sdp(False)\n",
    "torch.backends.cuda.enable_mem_efficient_sdp(False)\n",
    "\n",
    "from nb_utils.clip_eval import aggregate_similarities\n",
    "\n",
    "from nb_utils.cache import DistributedCache, Cache\n",
    "\n",
    "from nb_utils.experiments_viewer import ExpsViewer\n",
    "from nb_utils.clip_eval import ExpEvaluator\n",
    "from nb_utils.images_viewer import MultifolderViewer\n",
    "from nb_utils.configs import live_object_data"
   ]
  },
  {
   "cell_type": "code",
   "execution_count": null,
   "id": "1dd970e9",
   "metadata": {},
   "outputs": [],
   "source": [
    "evaluator = ExpEvaluator(device)"
   ]
  },
  {
   "cell_type": "code",
   "execution_count": null,
   "id": "1a4082b6",
   "metadata": {},
   "outputs": [],
   "source": [
    "base_path = \"./core/res_CR/\"\n",
    "exps = [a for a in os.listdir(base_path)]\n",
    "exps_viewer = ExpsViewer(\n",
    "    base_path=base_path,\n",
    "    exp_filter_fn=lambda x: x in list(exps),\n",
    "    ncolumns=4, lazy_load=True, evaluator=evaluator\n",
    ")\n",
    "\n",
    "stats = exps_viewer.evaluate(\n",
    "    exps_names=exps, \n",
    "    checkpoint_idx='500', \n",
    "    inference_specs=('50', '7.0')\n",
    ")\n",
    "for key, value in stats.items():\n",
    "    exp_cache = Cache(os.path.join(value['config']['output_dir'], 'eval.cache'))\n",
    "    exp_cache.update({key: value})\n",
    "    print('ready')"
   ]
  },
  {
   "cell_type": "code",
   "execution_count": 7,
   "id": "262bf92b",
   "metadata": {},
   "outputs": [],
   "source": [
    "ti_evaluate_cache = DistributedCache('./core/res_CR/*/eval.cache')\n",
    "# ti_evaluate_cache.keys()\n",
    "# ti_evaluate_cache[key]\n",
    "d = {k: {**v, **aggregate_similarities(v)} for k, v in ti_evaluate_cache.get().items()}\n",
    "# d.keys()\n",
    "# d[key]"
   ]
  },
  {
   "cell_type": "code",
   "execution_count": 8,
   "id": "4def4480",
   "metadata": {},
   "outputs": [],
   "source": [
    "def make_dict(path):\n",
    "    ti_evaluate_cache = DistributedCache(path)\n",
    "    d = {k: {**v, **aggregate_similarities(v)} for k, v in ti_evaluate_cache.get().items()}\n",
    "    medium_base_res = {}\n",
    "    for key in d.keys():\n",
    "        if live_object_data[d[key]['config']['class_name']] == 'live':\n",
    "            kt = 'live_text_similarity'\n",
    "            ki = 'live_image_similarity'\n",
    "        else:\n",
    "            kt = 'object_text_similarity'\n",
    "            ki = 'object_image_similarity'\n",
    "            \n",
    "        kb = 'base_image_similarity'\n",
    "        if not d[key][kt] or not d[key][ki]:\n",
    "            if live_object_data[d[key]['config']['class_name']] == 'live':\n",
    "                kt = 'live_with_class_text_similarity'\n",
    "                ki = 'live_with_class_image_similarity'\n",
    "            else:\n",
    "                kt = 'object_with_class_text_similarity'\n",
    "                ki = 'object_with_class_image_similarity'\n",
    "            kb = 'base_with_class_image_similarity'\n",
    "        medium_base_res[key] = {\n",
    "            'TS': np.round(d[key][kt], 6),\n",
    "            'BIS': np.round(d[key][kb], 6),\n",
    "            'IS': np.round(d[key][ki], 6),\n",
    "        }\n",
    "    return medium_base_res"
   ]
  },
  {
   "cell_type": "code",
   "execution_count": 10,
   "id": "0025162d",
   "metadata": {},
   "outputs": [],
   "source": [
    "res = make_dict('./core/res_CR/*/eval.cache')"
   ]
  },
  {
   "cell_type": "code",
   "execution_count": null,
   "id": "b7c73fff",
   "metadata": {
    "ExecuteTime": {
     "end_time": "2024-06-26T09:51:15.295805Z",
     "start_time": "2024-06-26T09:51:14.865097Z"
    }
   },
   "outputs": [],
   "source": [
    "# запустив ячейку можно посмотреть сохраненные картинки, если они были правильно сохранены\n",
    "\n",
    "ti_exps_viewer = ExpsViewer(\n",
    "    # Base path to experiments\n",
    "    './core/res_CR',\n",
    "    # Filter experiments\n",
    "    # exp_filter_fn=lambda x: x in [x for x in os.listdir('results') if \"CR\" not in x], \n",
    "    # Filter prompts\n",
    "    # filter_fn='a photo of a sks',\n",
    "    # Defines number of columns in experiment selector\n",
    "    ncolumns=4, \n",
    "    # Whether to load all images only on demand\n",
    "    lazy_load=True, \n",
    "    # ExpEvaluator instance to perform evaluation. See scripts/*/inference.sh\n",
    "    evaluator=None,\n",
    ")\n",
    "ti_exps_viewer.view()"
   ]
  },
  {
   "cell_type": "code",
   "execution_count": null,
   "id": "11c4bfaf-9b46-4247-a1b3-6c381a1b1fc6",
   "metadata": {},
   "outputs": [],
   "source": []
  }
 ],
 "metadata": {
  "kernelspec": {
   "display_name": "Python [conda env:.mlspace-chumachenko]",
   "language": "python",
   "name": "conda-env-.mlspace-chumachenko-py"
  },
  "language_info": {
   "codemirror_mode": {
    "name": "ipython",
    "version": 3
   },
   "file_extension": ".py",
   "mimetype": "text/x-python",
   "name": "python",
   "nbconvert_exporter": "python",
   "pygments_lexer": "ipython3",
   "version": "3.8.5"
  },
  "latex_envs": {
   "LaTeX_envs_menu_present": true,
   "autoclose": false,
   "autocomplete": true,
   "bibliofile": "biblio.bib",
   "cite_by": "apalike",
   "current_citInitial": 1,
   "eqLabelWithNumbers": true,
   "eqNumInitial": 1,
   "hotkeys": {
    "equation": "Ctrl-E",
    "itemize": "Ctrl-I"
   },
   "labels_anchors": false,
   "latex_user_defs": false,
   "report_style_numbering": false,
   "user_envs_cfg": false
  },
  "toc": {
   "base_numbering": 1,
   "nav_menu": {},
   "number_sections": false,
   "sideBar": true,
   "skip_h1_title": false,
   "title_cell": "Table of Contents",
   "title_sidebar": "Contents",
   "toc_cell": false,
   "toc_position": {},
   "toc_section_display": true,
   "toc_window_display": false
  },
  "widgets": {
   "application/vnd.jupyter.widget-state+json": {
    "state": {},
    "version_major": 2,
    "version_minor": 0
   }
  }
 },
 "nbformat": 4,
 "nbformat_minor": 5
}
